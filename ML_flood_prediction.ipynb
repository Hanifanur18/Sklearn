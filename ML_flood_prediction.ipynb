{
  "nbformat": 4,
  "nbformat_minor": 0,
  "metadata": {
    "colab": {
      "provenance": [],
      "authorship_tag": "ABX9TyNIIZLo4myjeZnp4Dud3hrn",
      "include_colab_link": true
    },
    "kernelspec": {
      "name": "python3",
      "display_name": "Python 3"
    },
    "language_info": {
      "name": "python"
    }
  },
  "cells": [
    {
      "cell_type": "markdown",
      "metadata": {
        "id": "view-in-github",
        "colab_type": "text"
      },
      "source": [
        "<a href=\"https://colab.research.google.com/github/Hanifanur18/Sklearn/blob/main/ML_flood_prediction.ipynb\" target=\"_parent\"><img src=\"https://colab.research.google.com/assets/colab-badge.svg\" alt=\"Open In Colab\"/></a>"
      ]
    },
    {
      "cell_type": "markdown",
      "source": [
        "# **Description**\n",
        "\n",
        "This project using data from Kaggle\n",
        "\n",
        "(https://www.kaggle.com/competitions/playground-series-s4e5)"
      ],
      "metadata": {
        "id": "eqpP8b-WRhYt"
      }
    },
    {
      "cell_type": "code",
      "source": [
        "import pandas as pd\n",
        "import seaborn as sns\n",
        "import matplotlib.pyplot as plt\n",
        "from sklearn.linear_model import LinearRegression\n",
        "from sklearn.metrics import mean_squared_error, mean_absolute_error"
      ],
      "metadata": {
        "id": "CgXk-HM8t6bl"
      },
      "execution_count": null,
      "outputs": []
    },
    {
      "cell_type": "code",
      "execution_count": null,
      "metadata": {
        "colab": {
          "base_uri": "https://localhost:8080/"
        },
        "id": "Pl73a4qtt2Zq",
        "outputId": "0c9a3770-3f8a-4044-aa59-664417e9d8c4"
      },
      "outputs": [
        {
          "output_type": "stream",
          "name": "stdout",
          "text": [
            "<class 'pandas.core.frame.DataFrame'>\n",
            "RangeIndex: 1117957 entries, 0 to 1117956\n",
            "Data columns (total 22 columns):\n",
            " #   Column                           Non-Null Count    Dtype  \n",
            "---  ------                           --------------    -----  \n",
            " 0   id                               1117957 non-null  int64  \n",
            " 1   MonsoonIntensity                 1117957 non-null  int64  \n",
            " 2   TopographyDrainage               1117957 non-null  int64  \n",
            " 3   RiverManagement                  1117957 non-null  int64  \n",
            " 4   Deforestation                    1117957 non-null  int64  \n",
            " 5   Urbanization                     1117957 non-null  int64  \n",
            " 6   ClimateChange                    1117957 non-null  int64  \n",
            " 7   DamsQuality                      1117957 non-null  int64  \n",
            " 8   Siltation                        1117957 non-null  int64  \n",
            " 9   AgriculturalPractices            1117957 non-null  int64  \n",
            " 10  Encroachments                    1117957 non-null  int64  \n",
            " 11  IneffectiveDisasterPreparedness  1117957 non-null  int64  \n",
            " 12  DrainageSystems                  1117957 non-null  int64  \n",
            " 13  CoastalVulnerability             1117957 non-null  int64  \n",
            " 14  Landslides                       1117957 non-null  int64  \n",
            " 15  Watersheds                       1117957 non-null  int64  \n",
            " 16  DeterioratingInfrastructure      1117957 non-null  int64  \n",
            " 17  PopulationScore                  1117957 non-null  int64  \n",
            " 18  WetlandLoss                      1117957 non-null  int64  \n",
            " 19  InadequatePlanning               1117957 non-null  int64  \n",
            " 20  PoliticalFactors                 1117957 non-null  int64  \n",
            " 21  FloodProbability                 1117957 non-null  float64\n",
            "dtypes: float64(1), int64(21)\n",
            "memory usage: 187.6 MB\n"
          ]
        }
      ],
      "source": [
        "url = 'https://drive.google.com/file/d/1_j4Mz791d680Oxldz5PTvLIk8ds9qnfV/view?usp=sharing'\n",
        "path = 'https://drive.google.com/uc?export=download&confirm=1&id='+url.split('/')[-2]\n",
        "df_train = pd.read_csv(path)\n",
        "df_train.info()"
      ]
    },
    {
      "cell_type": "code",
      "execution_count": null,
      "metadata": {
        "colab": {
          "base_uri": "https://localhost:8080/"
        },
        "id": "N9KB8qxyvfKI",
        "outputId": "ccd3ff9c-ad0b-414c-f211-e15d8bde27ed"
      },
      "outputs": [
        {
          "output_type": "stream",
          "name": "stdout",
          "text": [
            "<class 'pandas.core.frame.DataFrame'>\n",
            "RangeIndex: 745305 entries, 0 to 745304\n",
            "Data columns (total 21 columns):\n",
            " #   Column                           Non-Null Count   Dtype\n",
            "---  ------                           --------------   -----\n",
            " 0   id                               745305 non-null  int64\n",
            " 1   MonsoonIntensity                 745305 non-null  int64\n",
            " 2   TopographyDrainage               745305 non-null  int64\n",
            " 3   RiverManagement                  745305 non-null  int64\n",
            " 4   Deforestation                    745305 non-null  int64\n",
            " 5   Urbanization                     745305 non-null  int64\n",
            " 6   ClimateChange                    745305 non-null  int64\n",
            " 7   DamsQuality                      745305 non-null  int64\n",
            " 8   Siltation                        745305 non-null  int64\n",
            " 9   AgriculturalPractices            745305 non-null  int64\n",
            " 10  Encroachments                    745305 non-null  int64\n",
            " 11  IneffectiveDisasterPreparedness  745305 non-null  int64\n",
            " 12  DrainageSystems                  745305 non-null  int64\n",
            " 13  CoastalVulnerability             745305 non-null  int64\n",
            " 14  Landslides                       745305 non-null  int64\n",
            " 15  Watersheds                       745305 non-null  int64\n",
            " 16  DeterioratingInfrastructure      745305 non-null  int64\n",
            " 17  PopulationScore                  745305 non-null  int64\n",
            " 18  WetlandLoss                      745305 non-null  int64\n",
            " 19  InadequatePlanning               745305 non-null  int64\n",
            " 20  PoliticalFactors                 745305 non-null  int64\n",
            "dtypes: int64(21)\n",
            "memory usage: 119.4 MB\n"
          ]
        }
      ],
      "source": [
        "url = 'https://drive.google.com/file/d/1d15WtJv6HE32pLYXbhaV5wmRCQcIL_74/view?usp=sharing'\n",
        "path = 'https://drive.google.com/uc?export=download&confirm=1&id='+url.split('/')[-2]\n",
        "df_test = pd.read_csv(path)\n",
        "df_test.info()"
      ]
    },
    {
      "cell_type": "markdown",
      "source": [
        "# Define X_train, y_train, X_test"
      ],
      "metadata": {
        "id": "nG7M3IVYQzot"
      }
    },
    {
      "cell_type": "code",
      "source": [
        "X_train = df_train.drop('FloodProbability', axis = 1)\n",
        "y_train = df_train['FloodProbability']\n",
        "X_test = df_test"
      ],
      "metadata": {
        "id": "zLE9tgMAIKqS"
      },
      "execution_count": null,
      "outputs": []
    },
    {
      "cell_type": "markdown",
      "source": [
        "# Create model"
      ],
      "metadata": {
        "id": "zx8cbQn-REeE"
      }
    },
    {
      "cell_type": "code",
      "source": [
        "model = LinearRegression()\n",
        "model.fit(X_train,y_train)"
      ],
      "metadata": {
        "colab": {
          "base_uri": "https://localhost:8080/",
          "height": 74
        },
        "id": "O-LGmJBjIfox",
        "outputId": "33c461a9-2c28-4ccd-c0da-0390f55be38a"
      },
      "execution_count": null,
      "outputs": [
        {
          "output_type": "execute_result",
          "data": {
            "text/plain": [
              "LinearRegression()"
            ],
            "text/html": [
              "<style>#sk-container-id-3 {color: black;background-color: white;}#sk-container-id-3 pre{padding: 0;}#sk-container-id-3 div.sk-toggleable {background-color: white;}#sk-container-id-3 label.sk-toggleable__label {cursor: pointer;display: block;width: 100%;margin-bottom: 0;padding: 0.3em;box-sizing: border-box;text-align: center;}#sk-container-id-3 label.sk-toggleable__label-arrow:before {content: \"▸\";float: left;margin-right: 0.25em;color: #696969;}#sk-container-id-3 label.sk-toggleable__label-arrow:hover:before {color: black;}#sk-container-id-3 div.sk-estimator:hover label.sk-toggleable__label-arrow:before {color: black;}#sk-container-id-3 div.sk-toggleable__content {max-height: 0;max-width: 0;overflow: hidden;text-align: left;background-color: #f0f8ff;}#sk-container-id-3 div.sk-toggleable__content pre {margin: 0.2em;color: black;border-radius: 0.25em;background-color: #f0f8ff;}#sk-container-id-3 input.sk-toggleable__control:checked~div.sk-toggleable__content {max-height: 200px;max-width: 100%;overflow: auto;}#sk-container-id-3 input.sk-toggleable__control:checked~label.sk-toggleable__label-arrow:before {content: \"▾\";}#sk-container-id-3 div.sk-estimator input.sk-toggleable__control:checked~label.sk-toggleable__label {background-color: #d4ebff;}#sk-container-id-3 div.sk-label input.sk-toggleable__control:checked~label.sk-toggleable__label {background-color: #d4ebff;}#sk-container-id-3 input.sk-hidden--visually {border: 0;clip: rect(1px 1px 1px 1px);clip: rect(1px, 1px, 1px, 1px);height: 1px;margin: -1px;overflow: hidden;padding: 0;position: absolute;width: 1px;}#sk-container-id-3 div.sk-estimator {font-family: monospace;background-color: #f0f8ff;border: 1px dotted black;border-radius: 0.25em;box-sizing: border-box;margin-bottom: 0.5em;}#sk-container-id-3 div.sk-estimator:hover {background-color: #d4ebff;}#sk-container-id-3 div.sk-parallel-item::after {content: \"\";width: 100%;border-bottom: 1px solid gray;flex-grow: 1;}#sk-container-id-3 div.sk-label:hover label.sk-toggleable__label {background-color: #d4ebff;}#sk-container-id-3 div.sk-serial::before {content: \"\";position: absolute;border-left: 1px solid gray;box-sizing: border-box;top: 0;bottom: 0;left: 50%;z-index: 0;}#sk-container-id-3 div.sk-serial {display: flex;flex-direction: column;align-items: center;background-color: white;padding-right: 0.2em;padding-left: 0.2em;position: relative;}#sk-container-id-3 div.sk-item {position: relative;z-index: 1;}#sk-container-id-3 div.sk-parallel {display: flex;align-items: stretch;justify-content: center;background-color: white;position: relative;}#sk-container-id-3 div.sk-item::before, #sk-container-id-3 div.sk-parallel-item::before {content: \"\";position: absolute;border-left: 1px solid gray;box-sizing: border-box;top: 0;bottom: 0;left: 50%;z-index: -1;}#sk-container-id-3 div.sk-parallel-item {display: flex;flex-direction: column;z-index: 1;position: relative;background-color: white;}#sk-container-id-3 div.sk-parallel-item:first-child::after {align-self: flex-end;width: 50%;}#sk-container-id-3 div.sk-parallel-item:last-child::after {align-self: flex-start;width: 50%;}#sk-container-id-3 div.sk-parallel-item:only-child::after {width: 0;}#sk-container-id-3 div.sk-dashed-wrapped {border: 1px dashed gray;margin: 0 0.4em 0.5em 0.4em;box-sizing: border-box;padding-bottom: 0.4em;background-color: white;}#sk-container-id-3 div.sk-label label {font-family: monospace;font-weight: bold;display: inline-block;line-height: 1.2em;}#sk-container-id-3 div.sk-label-container {text-align: center;}#sk-container-id-3 div.sk-container {/* jupyter's `normalize.less` sets `[hidden] { display: none; }` but bootstrap.min.css set `[hidden] { display: none !important; }` so we also need the `!important` here to be able to override the default hidden behavior on the sphinx rendered scikit-learn.org. See: https://github.com/scikit-learn/scikit-learn/issues/21755 */display: inline-block !important;position: relative;}#sk-container-id-3 div.sk-text-repr-fallback {display: none;}</style><div id=\"sk-container-id-3\" class=\"sk-top-container\"><div class=\"sk-text-repr-fallback\"><pre>LinearRegression()</pre><b>In a Jupyter environment, please rerun this cell to show the HTML representation or trust the notebook. <br />On GitHub, the HTML representation is unable to render, please try loading this page with nbviewer.org.</b></div><div class=\"sk-container\" hidden><div class=\"sk-item\"><div class=\"sk-estimator sk-toggleable\"><input class=\"sk-toggleable__control sk-hidden--visually\" id=\"sk-estimator-id-3\" type=\"checkbox\" checked><label for=\"sk-estimator-id-3\" class=\"sk-toggleable__label sk-toggleable__label-arrow\">LinearRegression</label><div class=\"sk-toggleable__content\"><pre>LinearRegression()</pre></div></div></div></div></div>"
            ]
          },
          "metadata": {},
          "execution_count": 27
        }
      ]
    },
    {
      "cell_type": "code",
      "source": [
        "y_pred = model.predict(X_train)"
      ],
      "metadata": {
        "id": "aCLBfryqJZ3P"
      },
      "execution_count": null,
      "outputs": []
    },
    {
      "cell_type": "markdown",
      "source": [
        "# Evaluate the model"
      ],
      "metadata": {
        "id": "MqaMRVJqRS9t"
      }
    },
    {
      "cell_type": "code",
      "source": [
        "mean_squared_error(y_train,y_pred)"
      ],
      "metadata": {
        "colab": {
          "base_uri": "https://localhost:8080/"
        },
        "id": "TYEN_qUfI55p",
        "outputId": "4106f767-5b5e-476f-ed23-ce74dc4375a3"
      },
      "execution_count": null,
      "outputs": [
        {
          "output_type": "execute_result",
          "data": {
            "text/plain": [
              "0.0004036970766437405"
            ]
          },
          "metadata": {},
          "execution_count": 29
        }
      ]
    },
    {
      "cell_type": "code",
      "source": [
        "mean_absolute_error(y_train,y_pred)"
      ],
      "metadata": {
        "colab": {
          "base_uri": "https://localhost:8080/"
        },
        "id": "PF18ItMIJhZL",
        "outputId": "5256628c-97fe-4186-f572-ceb914ba17cd"
      },
      "execution_count": null,
      "outputs": [
        {
          "output_type": "execute_result",
          "data": {
            "text/plain": [
              "0.015811452330303673"
            ]
          },
          "metadata": {},
          "execution_count": 30
        }
      ]
    },
    {
      "cell_type": "markdown",
      "source": [
        "# Create y_test"
      ],
      "metadata": {
        "id": "MeahHa6wRYF9"
      }
    },
    {
      "cell_type": "code",
      "source": [
        "df_test['FloodProbability'] = model.predict(X_test)\n",
        "df_test[['id','FloodProbability']].shape"
      ],
      "metadata": {
        "colab": {
          "base_uri": "https://localhost:8080/"
        },
        "id": "AT2R5h0aU9SZ",
        "outputId": "36134b25-f13f-44f2-9b71-2c7734e078c5"
      },
      "execution_count": null,
      "outputs": [
        {
          "output_type": "execute_result",
          "data": {
            "text/plain": [
              "(745305, 2)"
            ]
          },
          "metadata": {},
          "execution_count": 31
        }
      ]
    },
    {
      "cell_type": "code",
      "source": [
        "from google.colab import files\n",
        "name_file = df_test[['id','FloodProbability']].to_csv('flood_prediction_result.csv')\n",
        "# files.download('flood_prediction_result.csv')"
      ],
      "metadata": {
        "id": "T8ynY6P0NvTD"
      },
      "execution_count": null,
      "outputs": []
    }
  ]
}